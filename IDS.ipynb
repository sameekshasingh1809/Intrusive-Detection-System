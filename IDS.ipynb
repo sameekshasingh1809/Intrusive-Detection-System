{
 "cells": [
  {
   "cell_type": "code",
   "execution_count": 1,
   "id": "2f24131d-0c1a-4660-8aec-7554be863b3a",
   "metadata": {},
   "outputs": [
    {
     "name": "stdout",
     "output_type": "stream",
     "text": [
      "Requirement already satisfied: Flask in c:\\users\\samee\\anaconda3\\lib\\site-packages (3.0.3)\n",
      "Requirement already satisfied: pyshark in c:\\users\\samee\\anaconda3\\lib\\site-packages (0.6)\n",
      "Requirement already satisfied: ipywidgets in c:\\users\\samee\\anaconda3\\lib\\site-packages (8.1.5)\n",
      "Requirement already satisfied: Werkzeug>=3.0.0 in c:\\users\\samee\\anaconda3\\lib\\site-packages (from Flask) (3.0.3)\n",
      "Requirement already satisfied: Jinja2>=3.1.2 in c:\\users\\samee\\anaconda3\\lib\\site-packages (from Flask) (3.1.4)\n",
      "Requirement already satisfied: itsdangerous>=2.1.2 in c:\\users\\samee\\anaconda3\\lib\\site-packages (from Flask) (2.2.0)\n",
      "Requirement already satisfied: click>=8.1.3 in c:\\users\\samee\\anaconda3\\lib\\site-packages (from Flask) (8.1.7)\n",
      "Requirement already satisfied: blinker>=1.6.2 in c:\\users\\samee\\anaconda3\\lib\\site-packages (from Flask) (1.6.2)\n",
      "Requirement already satisfied: lxml in c:\\users\\samee\\anaconda3\\lib\\site-packages (from pyshark) (5.2.1)\n",
      "Requirement already satisfied: termcolor in c:\\users\\samee\\anaconda3\\lib\\site-packages (from pyshark) (2.5.0)\n",
      "Requirement already satisfied: packaging in c:\\users\\samee\\anaconda3\\lib\\site-packages (from pyshark) (24.1)\n",
      "Requirement already satisfied: appdirs in c:\\users\\samee\\anaconda3\\lib\\site-packages (from pyshark) (1.4.4)\n",
      "Requirement already satisfied: comm>=0.1.3 in c:\\users\\samee\\anaconda3\\lib\\site-packages (from ipywidgets) (0.2.1)\n",
      "Requirement already satisfied: ipython>=6.1.0 in c:\\users\\samee\\anaconda3\\lib\\site-packages (from ipywidgets) (8.27.0)\n",
      "Requirement already satisfied: traitlets>=4.3.1 in c:\\users\\samee\\anaconda3\\lib\\site-packages (from ipywidgets) (5.14.3)\n",
      "Requirement already satisfied: widgetsnbextension~=4.0.12 in c:\\users\\samee\\anaconda3\\lib\\site-packages (from ipywidgets) (4.0.13)\n",
      "Requirement already satisfied: jupyterlab-widgets~=3.0.12 in c:\\users\\samee\\anaconda3\\lib\\site-packages (from ipywidgets) (3.0.13)\n",
      "Requirement already satisfied: colorama in c:\\users\\samee\\anaconda3\\lib\\site-packages (from click>=8.1.3->Flask) (0.4.6)\n",
      "Requirement already satisfied: decorator in c:\\users\\samee\\anaconda3\\lib\\site-packages (from ipython>=6.1.0->ipywidgets) (5.1.1)\n",
      "Requirement already satisfied: jedi>=0.16 in c:\\users\\samee\\anaconda3\\lib\\site-packages (from ipython>=6.1.0->ipywidgets) (0.19.1)\n",
      "Requirement already satisfied: matplotlib-inline in c:\\users\\samee\\anaconda3\\lib\\site-packages (from ipython>=6.1.0->ipywidgets) (0.1.6)\n",
      "Requirement already satisfied: prompt-toolkit<3.1.0,>=3.0.41 in c:\\users\\samee\\anaconda3\\lib\\site-packages (from ipython>=6.1.0->ipywidgets) (3.0.43)\n",
      "Requirement already satisfied: pygments>=2.4.0 in c:\\users\\samee\\anaconda3\\lib\\site-packages (from ipython>=6.1.0->ipywidgets) (2.15.1)\n",
      "Requirement already satisfied: stack-data in c:\\users\\samee\\anaconda3\\lib\\site-packages (from ipython>=6.1.0->ipywidgets) (0.2.0)\n",
      "Requirement already satisfied: MarkupSafe>=2.0 in c:\\users\\samee\\anaconda3\\lib\\site-packages (from Jinja2>=3.1.2->Flask) (2.1.3)\n",
      "Requirement already satisfied: parso<0.9.0,>=0.8.3 in c:\\users\\samee\\anaconda3\\lib\\site-packages (from jedi>=0.16->ipython>=6.1.0->ipywidgets) (0.8.3)\n",
      "Requirement already satisfied: wcwidth in c:\\users\\samee\\anaconda3\\lib\\site-packages (from prompt-toolkit<3.1.0,>=3.0.41->ipython>=6.1.0->ipywidgets) (0.2.5)\n",
      "Requirement already satisfied: executing in c:\\users\\samee\\anaconda3\\lib\\site-packages (from stack-data->ipython>=6.1.0->ipywidgets) (0.8.3)\n",
      "Requirement already satisfied: asttokens in c:\\users\\samee\\anaconda3\\lib\\site-packages (from stack-data->ipython>=6.1.0->ipywidgets) (2.0.5)\n",
      "Requirement already satisfied: pure-eval in c:\\users\\samee\\anaconda3\\lib\\site-packages (from stack-data->ipython>=6.1.0->ipywidgets) (0.2.2)\n",
      "Requirement already satisfied: six in c:\\users\\samee\\anaconda3\\lib\\site-packages (from asttokens->stack-data->ipython>=6.1.0->ipywidgets) (1.16.0)\n",
      "Requirement already satisfied: pushbullet.py in c:\\users\\samee\\anaconda3\\lib\\site-packages (0.12.0)\n",
      "Requirement already satisfied: requests>=1.0.0 in c:\\users\\samee\\anaconda3\\lib\\site-packages (from pushbullet.py) (2.32.3)\n",
      "Requirement already satisfied: python-magic in c:\\users\\samee\\anaconda3\\lib\\site-packages (from pushbullet.py) (0.4.27)\n",
      "Requirement already satisfied: websocket-client>=0.53.0 in c:\\users\\samee\\anaconda3\\lib\\site-packages (from pushbullet.py) (1.8.0)\n",
      "Requirement already satisfied: charset-normalizer<4,>=2 in c:\\users\\samee\\anaconda3\\lib\\site-packages (from requests>=1.0.0->pushbullet.py) (3.3.2)\n",
      "Requirement already satisfied: idna<4,>=2.5 in c:\\users\\samee\\anaconda3\\lib\\site-packages (from requests>=1.0.0->pushbullet.py) (3.7)\n",
      "Requirement already satisfied: urllib3<3,>=1.21.1 in c:\\users\\samee\\anaconda3\\lib\\site-packages (from requests>=1.0.0->pushbullet.py) (2.2.3)\n",
      "Requirement already satisfied: certifi>=2017.4.17 in c:\\users\\samee\\anaconda3\\lib\\site-packages (from requests>=1.0.0->pushbullet.py) (2024.8.30)\n"
     ]
    }
   ],
   "source": [
    "!pip install Flask pyshark ipywidgets\n",
    "!pip install pushbullet.py\n",
    "import time\n",
    "import threading\n",
    "from scapy.all import sniff, IP\n",
    "import pandas as pd\n",
    "import ipywidgets as widgets\n",
    "from IPython.display import display, clear_output\n",
    "from pushbullet import Pushbullet\n",
    "from collections import defaultdict"
   ]
  },
  {
   "cell_type": "code",
   "execution_count": 2,
   "id": "4dd6bfbd-976e-4b5e-bd1a-5d2f59421612",
   "metadata": {},
   "outputs": [],
   "source": [
    "# Pushbullet API Key\n",
    "PUSHBULLET_API_KEY = \"o.AVkuGhXw0o5A05yrpIE0mnOlCMwxmyiR\"  # Replace with your API key\n",
    "pb = Pushbullet(PUSHBULLET_API_KEY)"
   ]
  },
  {
   "cell_type": "code",
   "execution_count": 3,
   "id": "3f98f414-09d6-4a5f-9624-8cf138b4972f",
   "metadata": {},
   "outputs": [],
   "source": [
    "# Monitoring variables\n",
    "monitoring = False\n",
    "cycle_count = 0\n",
    "packet_counts = defaultdict(int)  # Count packets by IP\n",
    "packet_sizes = defaultdict(int)  # Track total packet sizes by IP\n",
    "alerted_ips = set()  # Track alerted IPs to avoid duplicate notifications"
   ]
  },
  {
   "cell_type": "code",
   "execution_count": 4,
   "id": "3797f93d-70b1-4edc-b299-87bcf197f342",
   "metadata": {},
   "outputs": [],
   "source": [
    "# Thresholds for DoS detection\n",
    "DOS_THRESHOLD = 100  # Minimum number of packets to consider a DoS attack\n",
    "SIZE_THRESHOLD = 5000  # Minimum total packet size to consider a DoS attack\n"
   ]
  },
  {
   "cell_type": "code",
   "execution_count": 5,
   "id": "8a4a012f-5e0f-45e7-9732-49b8ac06beac",
   "metadata": {},
   "outputs": [],
   "source": [
    "# Widgets for frontend\n",
    "alert_widget = widgets.HTML(value=\"<b>No alerts yet</b>\", layout=widgets.Layout(width='100%', height='50px'))\n",
    "log_output = widgets.Output()\n",
    "start_button = widgets.Button(description=\"Start Monitoring\", button_style='success')\n",
    "stop_button = widgets.Button(description=\"Stop Monitoring\", button_style='danger', disabled=True)\n"
   ]
  },
  {
   "cell_type": "code",
   "execution_count": 6,
   "id": "f49afbf0-0e61-43d7-97e8-224e56b2539b",
   "metadata": {},
   "outputs": [],
   "source": [
    "# Function to send alerts\n",
    "def send_alert(ip, reason):\n",
    "    \"\"\"Send an alert to Pushbullet and update the alert widget.\"\"\"\n",
    "    message = f\"Anomaly Detected: DoS Attack from {ip} ({reason})\"\n",
    "    print(f\"ALERT: {message}\")\n",
    "    alert_widget.value = f\"<b style='color:red;'>{message}</b>\"\n",
    "    try:\n",
    "        pb.push_note(\"Network Alert\", message)\n",
    "        print(\"Notification sent successfully.\")\n",
    "    except Exception as e:\n",
    "        print(f\"Error sending Pushbullet alert: {e}\")\n",
    "    with log_output:\n",
    "        print(message)"
   ]
  },
  {
   "cell_type": "code",
   "execution_count": 7,
   "id": "13f382f1-0668-47df-98b3-c80bb4721166",
   "metadata": {},
   "outputs": [],
   "source": [
    "# Simulate packet data for real-time monitoring\n",
    "def generate_packet():\n",
    "    \"\"\"Generate simulated packet data.\"\"\"\n",
    "    return {\n",
    "        'source_ip': f\"192.168.1.{random.randint(1, 10)}\",  # IP range for simulation\n",
    "        'size': random.randint(50, 1500)  # Packet size in bytes\n",
    "    }\n"
   ]
  },
  {
   "cell_type": "code",
   "execution_count": 8,
   "id": "80c57792-35cd-4f8d-acde-7aa789f9c381",
   "metadata": {},
   "outputs": [],
   "source": [
    "# Real-time monitoring logic\n",
    "def monitor_traffic():\n",
    "    \"\"\"Monitor simulated network traffic in real-time.\"\"\"\n",
    "    global monitoring, cycle_count, packet_counts, packet_sizes, alerted_ips\n",
    "    alerted_ips.clear()  # Reset alerted IPs\n",
    "    packet_counts.clear()  # Reset packet counts\n",
    "    packet_sizes.clear()  # Reset packet sizes\n",
    "\n",
    "    while monitoring:\n",
    "        cycle_count += 1\n",
    "        new_packet = generate_packet()\n",
    "        source_ip = new_packet['source_ip']\n",
    "        packet_size = new_packet['size']\n",
    "        \n",
    "        # Update packet counts and sizes\n",
    "        packet_counts[source_ip] += 1\n",
    "        packet_sizes[source_ip] += packet_size\n",
    "        \n",
    "        # Check for DoS attack based on thresholds\n",
    "        if (packet_counts[source_ip] > DOS_THRESHOLD or \n",
    "            packet_sizes[source_ip] > SIZE_THRESHOLD) and source_ip not in alerted_ips:\n",
    "            reason = (f\"High packet count: {packet_counts[source_ip]} packets\"\n",
    "                      if packet_counts[source_ip] > DOS_THRESHOLD \n",
    "                      else f\"High data volume: {packet_sizes[source_ip]} bytes\")\n",
    "            send_alert(source_ip, reason)\n",
    "            alerted_ips.add(source_ip)  # Avoid duplicate alerts for this IP\n",
    "        \n",
    "        # Update frontend\n",
    "        alert_widget.value = f\"<b style='color:blue;'>Monitoring running... ({cycle_count} records processed)</b>\"\n",
    "        time.sleep(0.5)  # Simulate packet processing delay\n"
   ]
  },
  {
   "cell_type": "code",
   "execution_count": 9,
   "id": "4588faa2-395d-424f-b081-b8e1eebc2309",
   "metadata": {},
   "outputs": [],
   "source": [
    "# Start monitoring\n",
    "def start_monitoring(_):\n",
    "    \"\"\"Start the monitoring process.\"\"\"\n",
    "    global monitoring\n",
    "    if monitoring:\n",
    "        print(\"Monitoring already running.\")\n",
    "        return\n",
    "    monitoring = True\n",
    "    start_button.disabled = True\n",
    "    stop_button.disabled = False\n",
    "    alert_widget.value = \"<b style='color:blue;'>Monitoring started...</b>\"\n",
    "    threading.Thread(target=monitor_traffic, daemon=True).start()\n",
    "    print(\"Monitoring started.\")"
   ]
  },
  {
   "cell_type": "code",
   "execution_count": 10,
   "id": "98050f16-a458-4cc0-9fbf-b4291f007263",
   "metadata": {},
   "outputs": [],
   "source": [
    "# Stop monitoring\n",
    "def stop_monitoring(_):\n",
    "    \"\"\"Stop the monitoring process.\"\"\"\n",
    "    global monitoring\n",
    "    monitoring = False\n",
    "    start_button.disabled = False\n",
    "    stop_button.disabled = True\n",
    "    alert_widget.value = \"<b style='color:gray;'>Monitoring stopped.</b>\"\n",
    "    print(\"Monitoring stopped.\")"
   ]
  },
  {
   "cell_type": "code",
   "execution_count": 11,
   "id": "8fa0dc25-c0a6-4816-af14-0aae7bf30f8b",
   "metadata": {},
   "outputs": [],
   "source": [
    "# Button interactions\n",
    "start_button.on_click(start_monitoring)\n",
    "stop_button.on_click(stop_monitoring)\n"
   ]
  },
  {
   "cell_type": "code",
   "execution_count": 12,
   "id": "1bdbe8ca-44d1-442b-8919-3ff8221a15a9",
   "metadata": {},
   "outputs": [
    {
     "data": {
      "application/vnd.jupyter.widget-view+json": {
       "model_id": "76339c0d2b5745afb47c358ccc860bcc",
       "version_major": 2,
       "version_minor": 0
      },
      "text/plain": [
       "HTML(value='<b>No alerts yet</b>', layout=Layout(height='50px', width='100%'))"
      ]
     },
     "metadata": {},
     "output_type": "display_data"
    },
    {
     "data": {
      "application/vnd.jupyter.widget-view+json": {
       "model_id": "15f342815f8f4238a92c3b6809603c8b",
       "version_major": 2,
       "version_minor": 0
      },
      "text/plain": [
       "Output()"
      ]
     },
     "metadata": {},
     "output_type": "display_data"
    },
    {
     "data": {
      "application/vnd.jupyter.widget-view+json": {
       "model_id": "b0b5f5a8d047486491fb4a058211fd42",
       "version_major": 2,
       "version_minor": 0
      },
      "text/plain": [
       "Button(button_style='success', description='Start Monitoring', style=ButtonStyle())"
      ]
     },
     "metadata": {},
     "output_type": "display_data"
    },
    {
     "data": {
      "application/vnd.jupyter.widget-view+json": {
       "model_id": "fc62424169b6424fb3924053d04a053a",
       "version_major": 2,
       "version_minor": 0
      },
      "text/plain": [
       "Button(button_style='danger', description='Stop Monitoring', disabled=True, style=ButtonStyle())"
      ]
     },
     "metadata": {},
     "output_type": "display_data"
    }
   ],
   "source": [
    "# Display widgets\n",
    "display(alert_widget, log_output, start_button, stop_button)\n"
   ]
  },
  {
   "cell_type": "code",
   "execution_count": null,
   "id": "c06b4073-a824-4473-9e5b-7378c09163e8",
   "metadata": {},
   "outputs": [],
   "source": []
  }
 ],
 "metadata": {
  "kernelspec": {
   "display_name": "Python 3 (ipykernel)",
   "language": "python",
   "name": "python3"
  },
  "language_info": {
   "codemirror_mode": {
    "name": "ipython",
    "version": 3
   },
   "file_extension": ".py",
   "mimetype": "text/x-python",
   "name": "python",
   "nbconvert_exporter": "python",
   "pygments_lexer": "ipython3",
   "version": "3.12.7"
  }
 },
 "nbformat": 4,
 "nbformat_minor": 5
}
